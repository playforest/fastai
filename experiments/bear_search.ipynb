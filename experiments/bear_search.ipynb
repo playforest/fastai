{
 "cells": [
  {
   "cell_type": "code",
   "execution_count": 2,
   "metadata": {},
   "outputs": [
    {
     "name": "stdout",
     "output_type": "stream",
     "text": [
      "\n"
     ]
    }
   ],
   "source": [
    "#!/bin/bash\n",
    "!echo $AZURE_SEARCH_KEY"
   ]
  },
  {
   "cell_type": "code",
   "execution_count": 3,
   "metadata": {},
   "outputs": [],
   "source": [
    "import os\n",
    "key = os.environ.get('AZURE_SEARCH_KEY')"
   ]
  },
  {
   "cell_type": "code",
   "execution_count": 4,
   "metadata": {},
   "outputs": [
    {
     "name": "stdout",
     "output_type": "stream",
     "text": [
      "None\n"
     ]
    }
   ],
   "source": [
    "print(key)"
   ]
  },
  {
   "cell_type": "code",
   "execution_count": 14,
   "metadata": {},
   "outputs": [
    {
     "name": "stdout",
     "output_type": "stream",
     "text": [
      "KeysView(environ({'ELECTRON_RUN_AS_NODE': '1', 'USER': 'imrandhahbi', '__CFBundleIdentifier': 'com.microsoft.VSCode', 'COMMAND_MODE': 'unix2003', 'LOGNAME': 'imrandhahbi', 'PATH': '/usr/bin:/usr/bin:/usr/bin:/usr/bin:/opt/homebrew/bin:/opt/homebrew/sbin:/usr/local/bin:/usr/bin:/bin:/usr/sbin:/sbin:/opt/minicom/2.2/bin:/usr/local/share/dotnet:~/.dotnet/tools:/Library/Apple/usr/bin:/Library/Frameworks/Mono.framework/Versions/Current/Commands', 'SSH_AUTH_SOCK': '/private/tmp/com.apple.launchd.Q2xby57PkM/Listeners', 'SHELL': '/bin/zsh', 'HOME': '/Users/imrandhahbi', '__CF_USER_TEXT_ENCODING': '0x1F5:0:15', 'TMPDIR': '/var/folders/g_/_gbrp9t921v56m675w45dsjm0000gn/T/', 'XPC_SERVICE_NAME': 'application.com.microsoft.VSCode.20474982.20474988', 'XPC_FLAGS': '0x0', 'ORIGINAL_XDG_CURRENT_DESKTOP': 'undefined', 'VSCODE_CWD': '/', 'VSCODE_NLS_CONFIG': '{\"locale\":\"en-gb\",\"availableLanguages\":{},\"_languagePackSupport\":true}', 'VSCODE_CODE_CACHE_PATH': '/Users/imrandhahbi/Library/Application Support/Code/CachedData/30d9c6cd9483b2cc586687151bcbcd635f373630', 'VSCODE_IPC_HOOK': '/Users/imrandhahbi/Library/Application Support/Code/1.68.1-main.sock', 'VSCODE_PID': '27136', 'SHLVL': '0', 'PWD': '/', 'OLDPWD': '/', 'HOMEBREW_PREFIX': '/opt/homebrew', 'HOMEBREW_CELLAR': '/opt/homebrew/Cellar', 'HOMEBREW_REPOSITORY': '/opt/homebrew', 'MANPATH': '/opt/homebrew/share/man::', 'INFOPATH': '/opt/homebrew/share/info:', '_': '/Applications/Visual Studio Code.app/Contents/MacOS/Electron', 'VSCODE_AMD_ENTRYPOINT': 'vs/workbench/api/node/extensionHostProcess', 'VSCODE_PIPE_LOGGING': 'true', 'VSCODE_VERBOSE_LOGGING': 'true', 'VSCODE_LOG_NATIVE': 'false', 'VSCODE_HANDLES_UNCAUGHT_ERRORS': 'true', 'VSCODE_LOG_STACK': 'false', 'VSCODE_IPC_HOOK_EXTHOST': '/var/folders/g_/_gbrp9t921v56m675w45dsjm0000gn/T/vscode-ipc-64074e7e-aae3-4569-b829-231d65f27d25.sock', 'APPLICATION_INSIGHTS_NO_DIAGNOSTIC_CHANNEL': '1', 'PYTHONPATH': '/Users/imrandhahbi/.vscode/extensions/ms-toolsai.jupyter-2022.5.1001601848/pythonFiles:/Users/imrandhahbi/.vscode/extensions/ms-toolsai.jupyter-2022.5.1001601848/pythonFiles/lib/python', 'PYTHONUNBUFFERED': '1', 'PYTHONIOENCODING': 'utf-8', 'SDKROOT': '/Library/Developer/CommandLineTools/SDKs/MacOSX.sdk', 'CPATH': '/usr/local/include', 'LIBRARY_PATH': '/usr/local/lib', 'LC_CTYPE': 'UTF-8', 'JUPYTER_PATH': '/Users/imrandhahbi/.vscode/extensions/ms-toolsai.jupyter-2022.5.1001601848/temp/jupyter', 'PYDEVD_USE_FRAME_EVAL': 'NO', 'JPY_PARENT_PID': '45556', 'TERM': 'xterm-color', 'CLICOLOR': '1', 'PAGER': 'cat', 'GIT_PAGER': 'cat', 'MPLBACKEND': 'module://matplotlib_inline.backend_inline'}))\n"
     ]
    }
   ],
   "source": [
    "print(os.environ.keys())"
   ]
  },
  {
   "cell_type": "code",
   "execution_count": null,
   "metadata": {},
   "outputs": [],
   "source": []
  }
 ],
 "metadata": {
  "kernelspec": {
   "display_name": "Python 3.8.10 64-bit",
   "language": "python",
   "name": "python3"
  },
  "language_info": {
   "codemirror_mode": {
    "name": "ipython",
    "version": 3
   },
   "file_extension": ".py",
   "mimetype": "text/x-python",
   "name": "python",
   "nbconvert_exporter": "python",
   "pygments_lexer": "ipython3",
   "version": "3.8.9"
  },
  "orig_nbformat": 4,
  "vscode": {
   "interpreter": {
    "hash": "31f2aee4e71d21fbe5cf8b01ff0e069b9275f58929596ceb00d14d90e3e16cd6"
   }
  }
 },
 "nbformat": 4,
 "nbformat_minor": 2
}
